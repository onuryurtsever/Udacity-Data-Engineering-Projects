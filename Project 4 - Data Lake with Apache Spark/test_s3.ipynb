{
 "cells": [
  {
   "cell_type": "code",
   "execution_count": 28,
   "metadata": {
    "editable": true
   },
   "outputs": [],
   "source": [
    "import configparser\n",
    "from datetime import datetime\n",
    "import os\n",
    "from pyspark.sql import SparkSession\n",
    "from pyspark.sql.functions import udf, col, monotonically_increasing_id\n",
    "from pyspark.sql.functions import year, month, dayofmonth, hour, weekofyear, date_format"
   ]
  },
  {
   "cell_type": "code",
   "execution_count": 2,
   "metadata": {
    "editable": true
   },
   "outputs": [
    {
     "data": {
      "text/plain": [
       "['dl.cfg']"
      ]
     },
     "execution_count": 2,
     "metadata": {},
     "output_type": "execute_result"
    }
   ],
   "source": [
    "config = configparser.ConfigParser()\n",
    "config.read('dl.cfg')"
   ]
  },
  {
   "cell_type": "code",
   "execution_count": 3,
   "metadata": {
    "editable": true
   },
   "outputs": [],
   "source": [
    "os.environ['AWS_ACCESS_KEY_ID']=config['AWS']['AWS_ACCESS_KEY_ID']\n",
    "os.environ['AWS_SECRET_ACCESS_KEY']=config['AWS']['AWS_SECRET_ACCESS_KEY']\n",
    "os.environ['AWS_REGION']=config['AWS']['AWS_REGION']"
   ]
  },
  {
   "cell_type": "code",
   "execution_count": 4,
   "metadata": {
    "editable": true
   },
   "outputs": [],
   "source": [
    "spark = SparkSession \\\n",
    "        .builder \\\n",
    "        .config(\"spark.jars.packages\", \"org.apache.hadoop:hadoop-aws:2.7.0\") \\\n",
    "        .getOrCreate()"
   ]
  },
  {
   "cell_type": "code",
   "execution_count": 5,
   "metadata": {
    "editable": true
   },
   "outputs": [],
   "source": [
    "# get filepath to song data file\n",
    "song_data = \"s3a://udacity-dend/song_data/A/A/B/TRAABCL128F4286650.json\""
   ]
  },
  {
   "cell_type": "code",
   "execution_count": 6,
   "metadata": {
    "editable": true
   },
   "outputs": [],
   "source": [
    "# read song data file\n",
    "df = spark.read.json(song_data)"
   ]
  },
  {
   "cell_type": "code",
   "execution_count": 7,
   "metadata": {
    "editable": true
   },
   "outputs": [
    {
     "name": "stdout",
     "output_type": "stream",
     "text": [
      "+------------------+---------------+---------------+----------------+------------+---------+---------+------------------+--------------------+----+\n",
      "|         artist_id|artist_latitude|artist_location|artist_longitude| artist_name| duration|num_songs|           song_id|               title|year|\n",
      "+------------------+---------------+---------------+----------------+------------+---------+---------+------------------+--------------------+----+\n",
      "|ARC43071187B990240|           null|     Wisner, LA|            null|Wayne Watson|245.21098|        1|SOKEJEJ12A8C13E0D0|The Urgency (LP V...|   0|\n",
      "+------------------+---------------+---------------+----------------+------------+---------+---------+------------------+--------------------+----+\n",
      "\n"
     ]
    }
   ],
   "source": [
    "df.show()"
   ]
  },
  {
   "cell_type": "code",
   "execution_count": 8,
   "metadata": {
    "editable": true
   },
   "outputs": [],
   "source": [
    "# extract columns to create songs table\n",
    "df.createOrReplaceTempView(\"songs\")\n",
    "songs_table = spark.sql(\"select distinct song_id, title, artist_id, year, duration from songs\")"
   ]
  },
  {
   "cell_type": "code",
   "execution_count": 9,
   "metadata": {
    "editable": true
   },
   "outputs": [
    {
     "name": "stdout",
     "output_type": "stream",
     "text": [
      "+------------------+--------------------+------------------+----+---------+\n",
      "|           song_id|               title|         artist_id|year| duration|\n",
      "+------------------+--------------------+------------------+----+---------+\n",
      "|SOKEJEJ12A8C13E0D0|The Urgency (LP V...|ARC43071187B990240|   0|245.21098|\n",
      "+------------------+--------------------+------------------+----+---------+\n",
      "\n"
     ]
    }
   ],
   "source": [
    "songs_table.show()"
   ]
  },
  {
   "cell_type": "code",
   "execution_count": 10,
   "metadata": {
    "editable": true
   },
   "outputs": [],
   "source": [
    "# write songs table to parquet files partitioned by year and artist\n",
    "songs_table.write.partitionBy(\"year\", \"artist_id\").parquet(path = \"s3a://udacity-store/songs.parquet\", mode = \"overwrite\")"
   ]
  },
  {
   "cell_type": "code",
   "execution_count": 11,
   "metadata": {
    "editable": true
   },
   "outputs": [],
   "source": [
    "# extract columns to create artists table\n",
    "df.createOrReplaceTempView(\"artists\")\n",
    "artists_table = spark.sql(\"\"\"select distinct artist_id, \n",
    "                            artist_name as name, \n",
    "                            artist_location as location, \n",
    "                            artist_latitude as latitude, \n",
    "                            artist_longitude as longitude \n",
    "                            from artists\n",
    "                          \"\"\")"
   ]
  },
  {
   "cell_type": "code",
   "execution_count": 12,
   "metadata": {
    "editable": true
   },
   "outputs": [
    {
     "name": "stdout",
     "output_type": "stream",
     "text": [
      "+------------------+------------+----------+--------+---------+\n",
      "|         artist_id|        name|  location|latitude|longitude|\n",
      "+------------------+------------+----------+--------+---------+\n",
      "|ARC43071187B990240|Wayne Watson|Wisner, LA|    null|     null|\n",
      "+------------------+------------+----------+--------+---------+\n",
      "\n"
     ]
    }
   ],
   "source": [
    "artists_table.show()"
   ]
  },
  {
   "cell_type": "code",
   "execution_count": 13,
   "metadata": {
    "editable": true
   },
   "outputs": [],
   "source": [
    "# write artists table to parquet files\n",
    "artists_table.write.parquet(path = \"s3a://udacity-store/artists.parquet\", mode = \"overwrite\")"
   ]
  },
  {
   "cell_type": "code",
   "execution_count": 14,
   "metadata": {
    "editable": true
   },
   "outputs": [],
   "source": [
    "# get filepath to log data file\n",
    "log_data = \"s3a://udacity-dend/log_data/2018/11/2018-11-01-events.json\""
   ]
  },
  {
   "cell_type": "code",
   "execution_count": 15,
   "metadata": {
    "editable": true
   },
   "outputs": [],
   "source": [
    "# read log data file\n",
    "df = spark.read.json(log_data)"
   ]
  },
  {
   "cell_type": "code",
   "execution_count": 16,
   "metadata": {
    "editable": true
   },
   "outputs": [
    {
     "name": "stdout",
     "output_type": "stream",
     "text": [
      "+------+---------+---------+------+-------------+--------+------+-----+--------------------+------+----+-----------------+---------+----+------+-------------+--------------------+------+\n",
      "|artist|     auth|firstName|gender|itemInSession|lastName|length|level|            location|method|page|     registration|sessionId|song|status|           ts|           userAgent|userId|\n",
      "+------+---------+---------+------+-------------+--------+------+-----+--------------------+------+----+-----------------+---------+----+------+-------------+--------------------+------+\n",
      "|  null|Logged In|   Walter|     M|            0|    Frye|  null| free|San Francisco-Oak...|   GET|Home|1.540919166796E12|       38|null|   200|1541105830796|\"Mozilla/5.0 (Mac...|    39|\n",
      "+------+---------+---------+------+-------------+--------+------+-----+--------------------+------+----+-----------------+---------+----+------+-------------+--------------------+------+\n",
      "only showing top 1 row\n",
      "\n"
     ]
    }
   ],
   "source": [
    "df.show(1)"
   ]
  },
  {
   "cell_type": "code",
   "execution_count": 17,
   "metadata": {
    "editable": true
   },
   "outputs": [],
   "source": [
    "# filter by actions for song plays\n",
    "df.createOrReplaceTempView(\"stg_events\")\n",
    "songplays_table = spark.sql(\"select * from stg_events where page='NextSong'\")"
   ]
  },
  {
   "cell_type": "code",
   "execution_count": 18,
   "metadata": {
    "editable": true
   },
   "outputs": [
    {
     "name": "stdout",
     "output_type": "stream",
     "text": [
      "+--------------------+---------+---------+------+-------------+--------+---------+-----+--------------------+------+--------+-----------------+---------+--------------------+------+-------------+--------------------+------+\n",
      "|              artist|     auth|firstName|gender|itemInSession|lastName|   length|level|            location|method|    page|     registration|sessionId|                song|status|           ts|           userAgent|userId|\n",
      "+--------------------+---------+---------+------+-------------+--------+---------+-----+--------------------+------+--------+-----------------+---------+--------------------+------+-------------+--------------------+------+\n",
      "|             Des'ree|Logged In|   Kaylee|     F|            1| Summers|246.30812| free|Phoenix-Mesa-Scot...|   PUT|NextSong|1.540344794796E12|      139|        You Gotta Be|   200|1541106106796|\"Mozilla/5.0 (Win...|     8|\n",
      "|             Mr Oizo|Logged In|   Kaylee|     F|            3| Summers|144.03873| free|Phoenix-Mesa-Scot...|   PUT|NextSong|1.540344794796E12|      139|             Flat 55|   200|1541106352796|\"Mozilla/5.0 (Win...|     8|\n",
      "|          Tamba Trio|Logged In|   Kaylee|     F|            4| Summers|177.18812| free|Phoenix-Mesa-Scot...|   PUT|NextSong|1.540344794796E12|      139|Quem Quiser Encon...|   200|1541106496796|\"Mozilla/5.0 (Win...|     8|\n",
      "|      The Mars Volta|Logged In|   Kaylee|     F|            5| Summers|380.42077| free|Phoenix-Mesa-Scot...|   PUT|NextSong|1.540344794796E12|      139|           Eriatarka|   200|1541106673796|\"Mozilla/5.0 (Win...|     8|\n",
      "|   Infected Mushroom|Logged In|   Kaylee|     F|            6| Summers| 440.2673| free|Phoenix-Mesa-Scot...|   PUT|NextSong|1.540344794796E12|      139|     Becoming Insane|   200|1541107053796|\"Mozilla/5.0 (Win...|     8|\n",
      "|Blue October / Im...|Logged In|   Kaylee|     F|            7| Summers| 241.3971| free|Phoenix-Mesa-Scot...|   PUT|NextSong|1.540344794796E12|      139|     Congratulations|   200|1541107493796|\"Mozilla/5.0 (Win...|     8|\n",
      "|           Girl Talk|Logged In|   Kaylee|     F|            8| Summers|160.15628| free|Phoenix-Mesa-Scot...|   PUT|NextSong|1.540344794796E12|      139|          Once again|   200|1541107734796|\"Mozilla/5.0 (Win...|     8|\n",
      "|     Black Eyed Peas|Logged In|   Sylvie|     F|            0|    Cruz|214.93506| free|Washington-Arling...|   PUT|NextSong|1.540266185796E12|        9|             Pump It|   200|1541108520796|\"Mozilla/5.0 (Mac...|    10|\n",
      "|        Fall Out Boy|Logged In|     Ryan|     M|            1|   Smith|200.72444| free|San Jose-Sunnyval...|   PUT|NextSong|1.541016707796E12|      169|Nobody Puts Baby ...|   200|1541109125796|\"Mozilla/5.0 (X11...|    26|\n",
      "|              M.I.A.|Logged In|     Ryan|     M|            2|   Smith| 233.7171| free|San Jose-Sunnyval...|   PUT|NextSong|1.541016707796E12|      169|Mango Pickle Down...|   200|1541109325796|\"Mozilla/5.0 (X11...|    26|\n",
      "|            Survivor|Logged In|   Jayden|     M|            0|     Fox|245.36771| free|New Orleans-Metai...|   PUT|NextSong|1.541033612796E12|      100|    Eye Of The Tiger|   200|1541110994796|\"Mozilla/5.0 (Win...|   101|\n",
      "+--------------------+---------+---------+------+-------------+--------+---------+-----+--------------------+------+--------+-----------------+---------+--------------------+------+-------------+--------------------+------+\n",
      "\n"
     ]
    }
   ],
   "source": [
    "songplays_table.show()"
   ]
  },
  {
   "cell_type": "code",
   "execution_count": 19,
   "metadata": {
    "editable": true
   },
   "outputs": [],
   "source": [
    "# extract columns for users table\n",
    "df.createOrReplaceTempView(\"users\")\n",
    "users_table = spark.sql(\"select distinct userId, firstName, lastName, gender, level from users\")"
   ]
  },
  {
   "cell_type": "code",
   "execution_count": 20,
   "metadata": {
    "editable": true
   },
   "outputs": [
    {
     "name": "stdout",
     "output_type": "stream",
     "text": [
      "+------+---------+--------+------+-----+\n",
      "|userId|firstName|lastName|gender|level|\n",
      "+------+---------+--------+------+-----+\n",
      "|    39|   Walter|    Frye|     M| free|\n",
      "|     8|   Kaylee| Summers|     F| free|\n",
      "|    10|   Sylvie|    Cruz|     F| free|\n",
      "|    26|     Ryan|   Smith|     M| free|\n",
      "|   101|   Jayden|     Fox|     M| free|\n",
      "+------+---------+--------+------+-----+\n",
      "\n"
     ]
    }
   ],
   "source": [
    "users_table.show()"
   ]
  },
  {
   "cell_type": "code",
   "execution_count": 21,
   "metadata": {
    "editable": true
   },
   "outputs": [],
   "source": [
    "# write users table to parquet files\n",
    "users_table.write.parquet(path = \"s3a://udacity-store/users.parquet\", mode = \"overwrite\")"
   ]
  },
  {
   "cell_type": "code",
   "execution_count": 51,
   "metadata": {
    "editable": true
   },
   "outputs": [],
   "source": [
    "# create timestamp column from original timestamp column\n",
    "get_timestamp = udf(lambda x: str(int(int(x)/1000)))\n",
    "df = df.withColumn('time_stamp', get_timestamp(df.ts))"
   ]
  },
  {
   "cell_type": "code",
   "execution_count": null,
   "metadata": {
    "editable": true
   },
   "outputs": [],
   "source": [
    "# create datetime column from original timestamp column\n",
    "get_timestamp = udf(lambda x: str(datetime.fromtimestamp(int(x) / 1000.0)))\n",
    "df = df.withColumn(\"start_time\", get_timestamp(\"ts\"))"
   ]
  },
  {
   "cell_type": "code",
   "execution_count": null,
   "metadata": {
    "editable": true
   },
   "outputs": [],
   "source": [
    "df.createOrReplaceTempView(\"time\")\n",
    "time_table = spark.sql(\"\"\"select distinct time_stamp as start_time, \n",
    "                                        hour(start_time) as hour, \n",
    "                                        day(start_time) as day, \n",
    "                                        weekofyear(start_time) as week, \n",
    "                                        month(start_time) as month, \n",
    "                                        year(start_time) as year, \n",
    "                                        dayofweek(start_time) as weekday \n",
    "                           from time\n",
    "                       \"\"\")"
   ]
  },
  {
   "cell_type": "code",
   "execution_count": 52,
   "metadata": {
    "editable": true
   },
   "outputs": [
    {
     "name": "stdout",
     "output_type": "stream",
     "text": [
      "+-------------+----+---+----+-----+----+-------+\n",
      "|   start_time|hour|day|week|month|year|weekday|\n",
      "+-------------+----+---+----+-----+----+-------+\n",
      "|1541106352796|  21|  1|  44|   11|2018|      5|\n",
      "|1541107734796|  21|  1|  44|   11|2018|      5|\n",
      "|1541105830796|  20|  1|  44|   11|2018|      5|\n",
      "|1541106496796|  21|  1|  44|   11|2018|      5|\n",
      "|1541109015796|  21|  1|  44|   11|2018|      5|\n",
      "|1541107493796|  21|  1|  44|   11|2018|      5|\n",
      "|1541110994796|  22|  1|  44|   11|2018|      5|\n",
      "|1541109325796|  21|  1|  44|   11|2018|      5|\n",
      "|1541106106796|  21|  1|  44|   11|2018|      5|\n",
      "|1541108520796|  21|  1|  44|   11|2018|      5|\n",
      "|1541109125796|  21|  1|  44|   11|2018|      5|\n",
      "|1541107053796|  21|  1|  44|   11|2018|      5|\n",
      "|1541106132796|  21|  1|  44|   11|2018|      5|\n",
      "|1541106673796|  21|  1|  44|   11|2018|      5|\n",
      "+-------------+----+---+----+-----+----+-------+\n",
      "\n"
     ]
    }
   ],
   "source": [
    "time_table.show()"
   ]
  },
  {
   "cell_type": "code",
   "execution_count": 24,
   "metadata": {
    "editable": true
   },
   "outputs": [],
   "source": [
    "# write time table to parquet files partitioned by year and month\n",
    "time_table.write.partitionBy(\"year\", \"month\").parquet(path = \"s3a://udacity-store/time.parquet\", mode = \"overwrite\")"
   ]
  },
  {
   "cell_type": "code",
   "execution_count": 25,
   "metadata": {
    "editable": true
   },
   "outputs": [],
   "source": [
    "# read in song data to use for songplays table\n",
    "song_df = spark.read.parquet(\"s3a://udacity-store/songs.parquet\")\n",
    "song_df.createOrReplaceTempView(\"stg_songs\")"
   ]
  },
  {
   "cell_type": "code",
   "execution_count": 49,
   "metadata": {
    "editable": true
   },
   "outputs": [],
   "source": [
    "# extract columns from joined song and log datasets to create songplays table\n",
    "\n",
    "songplays_table = spark.sql(\"\"\"select\n",
    "                    events.ts start_time,\n",
    "                    events.userId user_id,\n",
    "                    events.level,\n",
    "                    songs.song_id,\n",
    "                    songs.artist_id,\n",
    "                    events.sessionId session_id,\n",
    "                    events.location,\n",
    "                    events.userAgent user_agent\n",
    "                    from stg_events events inner join stg_songs songs\n",
    "                    on events.song=songs.title\n",
    "                    where events.page='NextSong'\n",
    "\"\"\"\n",
    ")"
   ]
  },
  {
   "cell_type": "code",
   "execution_count": 71,
   "metadata": {
    "editable": true
   },
   "outputs": [],
   "source": [
    "songplays_table = songplays_table.withColumn(\"songplay_id\", monotonically_increasing_id())"
   ]
  },
  {
   "cell_type": "code",
   "execution_count": 72,
   "metadata": {
    "editable": true
   },
   "outputs": [
    {
     "name": "stdout",
     "output_type": "stream",
     "text": [
      "+-------------+-------+-----+----------+--------------------+--------------------+-----------+\n",
      "|   start_time|user_id|level|session_id|            location|          user_agent|songplay_id|\n",
      "+-------------+-------+-----+----------+--------------------+--------------------+-----------+\n",
      "|1541105830796|     39| free|        38|San Francisco-Oak...|\"Mozilla/5.0 (Mac...|          0|\n",
      "|1541106106796|      8| free|       139|Phoenix-Mesa-Scot...|\"Mozilla/5.0 (Win...|          1|\n",
      "|1541106106796|      8| free|       139|Phoenix-Mesa-Scot...|\"Mozilla/5.0 (Win...|          2|\n",
      "|1541106132796|      8| free|       139|Phoenix-Mesa-Scot...|\"Mozilla/5.0 (Win...|          3|\n",
      "|1541106352796|      8| free|       139|Phoenix-Mesa-Scot...|\"Mozilla/5.0 (Win...|          4|\n",
      "|1541106496796|      8| free|       139|Phoenix-Mesa-Scot...|\"Mozilla/5.0 (Win...|          5|\n",
      "|1541106673796|      8| free|       139|Phoenix-Mesa-Scot...|\"Mozilla/5.0 (Win...|          6|\n",
      "|1541107053796|      8| free|       139|Phoenix-Mesa-Scot...|\"Mozilla/5.0 (Win...|          7|\n",
      "|1541107493796|      8| free|       139|Phoenix-Mesa-Scot...|\"Mozilla/5.0 (Win...|          8|\n",
      "|1541107734796|      8| free|       139|Phoenix-Mesa-Scot...|\"Mozilla/5.0 (Win...|          9|\n",
      "|1541108520796|     10| free|         9|Washington-Arling...|\"Mozilla/5.0 (Mac...|         10|\n",
      "|1541109015796|     26| free|       169|San Jose-Sunnyval...|\"Mozilla/5.0 (X11...|         11|\n",
      "|1541109125796|     26| free|       169|San Jose-Sunnyval...|\"Mozilla/5.0 (X11...|         12|\n",
      "|1541109325796|     26| free|       169|San Jose-Sunnyval...|\"Mozilla/5.0 (X11...|         13|\n",
      "|1541110994796|    101| free|       100|New Orleans-Metai...|\"Mozilla/5.0 (Win...|         14|\n",
      "+-------------+-------+-----+----------+--------------------+--------------------+-----------+\n",
      "\n"
     ]
    }
   ],
   "source": [
    "songplays_table.show()"
   ]
  },
  {
   "cell_type": "code",
   "execution_count": 75,
   "metadata": {
    "editable": true
   },
   "outputs": [],
   "source": [
    "songplays_joined_time = songplays_table.join(time_table, (songplays_table.start_time == time_table.start_time), how=\"inner\") \\\n",
    ".select(\"songplay_id\", songplays_table.start_time, \"user_id\", \"level\", \"song_id\", \"artist_id\", \"session_id\", \"location\", \"user_agent\", \"year\", \"month\")"
   ]
  },
  {
   "cell_type": "code",
   "execution_count": 77,
   "metadata": {
    "editable": true
   },
   "outputs": [
    {
     "name": "stdout",
     "output_type": "stream",
     "text": [
      "+-----------+-------------+-------+-----+----------+--------------------+--------------------+----+-----+\n",
      "|songplay_id|   start_time|user_id|level|session_id|            location|          user_agent|year|month|\n",
      "+-----------+-------------+-------+-----+----------+--------------------+--------------------+----+-----+\n",
      "|          0|1541105830796|     39| free|        38|San Francisco-Oak...|\"Mozilla/5.0 (Mac...|2018|   11|\n",
      "|          1|1541106106796|      8| free|       139|Phoenix-Mesa-Scot...|\"Mozilla/5.0 (Win...|2018|   11|\n",
      "|          2|1541106106796|      8| free|       139|Phoenix-Mesa-Scot...|\"Mozilla/5.0 (Win...|2018|   11|\n",
      "|          3|1541106132796|      8| free|       139|Phoenix-Mesa-Scot...|\"Mozilla/5.0 (Win...|2018|   11|\n",
      "|          4|1541106352796|      8| free|       139|Phoenix-Mesa-Scot...|\"Mozilla/5.0 (Win...|2018|   11|\n",
      "|          5|1541106496796|      8| free|       139|Phoenix-Mesa-Scot...|\"Mozilla/5.0 (Win...|2018|   11|\n",
      "|          6|1541106673796|      8| free|       139|Phoenix-Mesa-Scot...|\"Mozilla/5.0 (Win...|2018|   11|\n",
      "|          7|1541107053796|      8| free|       139|Phoenix-Mesa-Scot...|\"Mozilla/5.0 (Win...|2018|   11|\n",
      "|          8|1541107493796|      8| free|       139|Phoenix-Mesa-Scot...|\"Mozilla/5.0 (Win...|2018|   11|\n",
      "|          9|1541107734796|      8| free|       139|Phoenix-Mesa-Scot...|\"Mozilla/5.0 (Win...|2018|   11|\n",
      "|         10|1541108520796|     10| free|         9|Washington-Arling...|\"Mozilla/5.0 (Mac...|2018|   11|\n",
      "|         11|1541109015796|     26| free|       169|San Jose-Sunnyval...|\"Mozilla/5.0 (X11...|2018|   11|\n",
      "|         12|1541109125796|     26| free|       169|San Jose-Sunnyval...|\"Mozilla/5.0 (X11...|2018|   11|\n",
      "|         13|1541109325796|     26| free|       169|San Jose-Sunnyval...|\"Mozilla/5.0 (X11...|2018|   11|\n",
      "|         14|1541110994796|    101| free|       100|New Orleans-Metai...|\"Mozilla/5.0 (Win...|2018|   11|\n",
      "+-----------+-------------+-------+-----+----------+--------------------+--------------------+----+-----+\n",
      "\n"
     ]
    }
   ],
   "source": [
    "songplays_joined_time.show()"
   ]
  },
  {
   "cell_type": "code",
   "execution_count": 78,
   "metadata": {
    "editable": true
   },
   "outputs": [],
   "source": [
    "# write songplays table to parquet files partitioned by year and month\n",
    "songplays_joined_time.write.partitionBy(\"year\", \"month\").parquet(path = \"s3a://udacity-store/songplays.parquet\", mode = \"overwrite\")"
   ]
  }
 ],
 "metadata": {
  "kernelspec": {
   "display_name": "Python 3",
   "language": "python",
   "name": "python3"
  },
  "language_info": {
   "codemirror_mode": {
    "name": "ipython",
    "version": 3
   },
   "file_extension": ".py",
   "mimetype": "text/x-python",
   "name": "python",
   "nbconvert_exporter": "python",
   "pygments_lexer": "ipython3",
   "version": "3.6.3"
  }
 },
 "nbformat": 4,
 "nbformat_minor": 4
}
